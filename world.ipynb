{
 "cells": [
  {
   "cell_type": "markdown",
   "id": "ffc55908",
   "metadata": {},
   "source": [
    "# Artificial Intelligence and Cognition \n",
    "> Florian Geillon, Antoine Billod"
   ]
  },
  {
   "cell_type": "markdown",
   "id": "16339981",
   "metadata": {},
   "source": [
    "## Agent 1 : L'agent qui n'aimait pas s'ennuyer\n",
    "Implémenter un agent qui :\n",
    "\n",
    "1. Apprend à prédire le résultat (outcome) de ses action en fonction de son environnement.\n",
    "2. Choisit une action différente quand ses prédictions sont correctes depuis trop longtemps (fixer un temps arbitraire, par exemple 4 cycles d'interaction).\n",
    "\n",
    "L'agent peut choisir entre deux actions possibles : \"0\" ou \"1\". Il peut recevoir deux outcome possibles : \"0\" ou \"1\".\n",
    "\n",
    "L'anticipation se fait sur la base de l'hypothèse que la même action produira le même outcome. Il faut donc implémenter une mémoire des outcome obtenus pour chaque action.\n",
    "\n",
    "Tester l'agent dans l'environnement 1 et dans l'environnement 2.\n",
    "\n",
    "La Figure 1 montre un exemple de trace obtenue dans l'environnement 1. Selon les particularités de votre implémentation, vous pouvez obtenir une trace un peu différente.\n",
    "\n",
    "![Figure 1](https://user-images.githubusercontent.com/11695651/98649838-5a983f80-2338-11eb-821e-6d0e7d8d8490.png)\n",
    "\n",
    "_Figure 1. La Satisfaction est un triplet (anticipation correcte, valeur de l'interaction, ennui). Pendant les 4 premiers pas, l'agent anticipe correctement l'outcome (dans cette implémentation, l'anticipation par défaut est 0 et par chance elle est juste). Au 4ème pas, il s'ennuie. Au 5ème pas, il choisit donc une action différente mais son anticipation est fausse. A partir du 6ème pas, il anticipe toujours correctement l'outcome._\n"
   ]
  },
  {
   "cell_type": "markdown",
   "id": "20a17760",
   "metadata": {},
   "source": [
    "### Code de l'agent 1"
   ]
  },
  {
   "cell_type": "code",
   "execution_count": 5,
   "id": "initial_id",
   "metadata": {
    "ExecuteTime": {
     "end_time": "2023-10-02T12:12:31.454857Z",
     "start_time": "2023-10-02T12:12:31.245600Z"
    },
    "collapsed": true
   },
   "outputs": [],
   "source": [
    "#!/usr/bin/env python\n",
    "# Olivier Georgeon, 2021.\n",
    "# This code is used to teach Developmental AI.\n",
    "# from turtlesim_enacter import TurtleSimEnacter # requires ROS\n",
    "from turtlepy_enacter import TurtlePyEnacter\n",
    "\n",
    "#from Agent5 import Agent5\n",
    "#from OsoyooCarEnacter import OsoyooCarEnacter\n",
    "ROBOT_IP = \"192.168.4.1\"\n",
    "\n",
    "\n",
    "class Agent:\n",
    "    def __init__(self, valence_table):\n",
    "        \"\"\" Creating our agent \"\"\"\n",
    "        self.valence_table = valence_table\n",
    "        self._action = None\n",
    "        self.anticipated_outcome = None\n",
    "        self.memory_anticipation = {}  # {action: outcome}\n",
    "        self.last_and_satisfaction = []  # [action, satisfaction]\n",
    "\n",
    "    def action(self, outcome):\n",
    "        \"\"\" tracing the previous cycle \"\"\"\n",
    "        if self._action is not None:\n",
    "            print(\"Action: \" + str(self._action) +\n",
    "                  \", Anticipation: \" + str(self.anticipated_outcome) +\n",
    "                  \", Outcome: \" + str(outcome) +\n",
    "                  \", Satisfaction: (anticipation: \" + str(self.anticipated_outcome == outcome) +\n",
    "                  \", valence: \" + str(self.valence_table[self._action][outcome]) + \")\")\n",
    "\n",
    "            self.memory_anticipation[self._action] = outcome\n",
    "            self.last_and_satisfaction.append([self._action, self.anticipated_outcome == outcome])\n",
    "\n",
    "        \"\"\" Computing the next action to enact \"\"\"\n",
    "        # TODO: Implement the agent's decision mechanism\n",
    "        if self._action is None:\n",
    "            self._action = 0\n",
    "        # Si les 4 derniers sont les mêmes et que la satisfaction est la même alors, on change d'action\n",
    "        if len(self.last_and_satisfaction) >= 4:\n",
    "            if self.last_and_satisfaction[-1][0] == self.last_and_satisfaction[-2][0] == self.last_and_satisfaction[-3][\n",
    "                0] == self.last_and_satisfaction[-4][0]:\n",
    "                if self.last_and_satisfaction[-1][1] == self.last_and_satisfaction[-2][1] == \\\n",
    "                        self.last_and_satisfaction[-3][1] == self.last_and_satisfaction[-4][1]:\n",
    "                    self._action = 1 - self._action\n",
    "        # TODO: Implement the agent's anticipation mechanism\n",
    "        self.anticipated_outcome = 0\n",
    "        if self._action in self.memory_anticipation:\n",
    "            self.anticipated_outcome = self.memory_anticipation[self._action]\n",
    "        return self._action\n",
    "\n",
    "\n",
    "class Environment1:\n",
    "    \"\"\" In Environment 1, action 0 yields outcome 0, action 1 yields outcome 1 \"\"\"\n",
    "\n",
    "    def outcome(self, action):\n",
    "        # return int(input(\"entre 0 1 ou 2\"))\n",
    "        if action == 0:\n",
    "            return 0\n",
    "        else:\n",
    "            return 1\n",
    "\n",
    "\n",
    "class Environment2:\n",
    "    \"\"\" In Environment 2, action 0 yields outcome 1, action 1 yields outcome 0 \"\"\"\n",
    "\n",
    "    def outcome(self, action):\n",
    "        if action == 0:\n",
    "            return 1\n",
    "        else:\n",
    "            return 0\n",
    "\n",
    "\n",
    "class Environment3:\n",
    "    \"\"\" Environment 3 yields outcome 1 only when the agent alternates actions 0 and 1 \"\"\"\n",
    "\n",
    "    def __init__(self):\n",
    "        \"\"\" Initializing Environment3 \"\"\"\n",
    "        self.previous_action = 0\n",
    "\n",
    "    def outcome(self, action):\n",
    "        _outcome = 1\n",
    "        if action == self.previous_action:\n",
    "            _outcome = 0\n",
    "        self.previous_action = action\n",
    "        return _outcome\n",
    "\n",
    "\n",
    "valences = [[-1, 1], [-1, 1]]"
   ]
  },
  {
   "cell_type": "markdown",
   "id": "3e40e959",
   "metadata": {},
   "source": [
    "### Test de l'agent 1 dans l'environnement 1"
   ]
  },
  {
   "cell_type": "code",
   "execution_count": 2,
   "id": "813ff354cea03a65",
   "metadata": {
    "ExecuteTime": {
     "end_time": "2023-10-02T12:12:31.464347Z",
     "start_time": "2023-10-02T12:12:31.455979Z"
    },
    "collapsed": false
   },
   "outputs": [
    {
     "name": "stdout",
     "output_type": "stream",
     "text": [
      "Action: 0, Anticipation: 0, Outcome: 0, Satisfaction: (anticipation: True, valence: -1)\n",
      "Action: 0, Anticipation: 0, Outcome: 0, Satisfaction: (anticipation: True, valence: -1)\n",
      "Action: 0, Anticipation: 0, Outcome: 0, Satisfaction: (anticipation: True, valence: -1)\n",
      "Action: 0, Anticipation: 0, Outcome: 0, Satisfaction: (anticipation: True, valence: -1)\n",
      "Action: 1, Anticipation: 0, Outcome: 1, Satisfaction: (anticipation: False, valence: 1)\n",
      "Action: 1, Anticipation: 1, Outcome: 1, Satisfaction: (anticipation: True, valence: 1)\n",
      "Action: 1, Anticipation: 1, Outcome: 1, Satisfaction: (anticipation: True, valence: 1)\n",
      "Action: 1, Anticipation: 1, Outcome: 1, Satisfaction: (anticipation: True, valence: 1)\n",
      "Action: 1, Anticipation: 1, Outcome: 1, Satisfaction: (anticipation: True, valence: 1)\n",
      "Action: 0, Anticipation: 0, Outcome: 0, Satisfaction: (anticipation: True, valence: -1)\n",
      "Action: 0, Anticipation: 0, Outcome: 0, Satisfaction: (anticipation: True, valence: -1)\n",
      "Action: 0, Anticipation: 0, Outcome: 0, Satisfaction: (anticipation: True, valence: -1)\n",
      "Action: 0, Anticipation: 0, Outcome: 0, Satisfaction: (anticipation: True, valence: -1)\n",
      "Action: 1, Anticipation: 1, Outcome: 1, Satisfaction: (anticipation: True, valence: 1)\n",
      "Action: 1, Anticipation: 1, Outcome: 1, Satisfaction: (anticipation: True, valence: 1)\n",
      "Action: 1, Anticipation: 1, Outcome: 1, Satisfaction: (anticipation: True, valence: 1)\n",
      "Action: 1, Anticipation: 1, Outcome: 1, Satisfaction: (anticipation: True, valence: 1)\n",
      "Action: 0, Anticipation: 0, Outcome: 0, Satisfaction: (anticipation: True, valence: -1)\n",
      "Action: 0, Anticipation: 0, Outcome: 0, Satisfaction: (anticipation: True, valence: -1)\n"
     ]
    }
   ],
   "source": [
    "a = Agent(valences)\n",
    "e = Environment1()\n",
    "outcome = 0\n",
    "for i in range(20):\n",
    "    action = a.action(outcome)\n",
    "    outcome = e.outcome(action)"
   ]
  },
  {
   "cell_type": "markdown",
   "id": "2d488b69",
   "metadata": {},
   "source": [
    "### Test de l'agent 1 dans l'environnement 2"
   ]
  },
  {
   "cell_type": "code",
   "execution_count": 3,
   "id": "ed56cc3b136a86bf",
   "metadata": {
    "ExecuteTime": {
     "end_time": "2023-10-02T12:12:31.464814Z",
     "start_time": "2023-10-02T12:12:31.460390Z"
    },
    "collapsed": false
   },
   "outputs": [
    {
     "name": "stdout",
     "output_type": "stream",
     "text": [
      "Action: 0, Anticipation: 0, Outcome: 0, Satisfaction: (anticipation: True, valence: -1)\n",
      "Action: 0, Anticipation: 0, Outcome: 1, Satisfaction: (anticipation: False, valence: 1)\n",
      "Action: 0, Anticipation: 1, Outcome: 1, Satisfaction: (anticipation: True, valence: 1)\n",
      "Action: 0, Anticipation: 1, Outcome: 1, Satisfaction: (anticipation: True, valence: 1)\n",
      "Action: 0, Anticipation: 1, Outcome: 1, Satisfaction: (anticipation: True, valence: 1)\n",
      "Action: 0, Anticipation: 1, Outcome: 1, Satisfaction: (anticipation: True, valence: 1)\n",
      "Action: 1, Anticipation: 1, Outcome: 0, Satisfaction: (anticipation: False, valence: -1)\n",
      "Action: 1, Anticipation: 0, Outcome: 0, Satisfaction: (anticipation: True, valence: -1)\n",
      "Action: 1, Anticipation: 0, Outcome: 0, Satisfaction: (anticipation: True, valence: -1)\n",
      "Action: 1, Anticipation: 0, Outcome: 0, Satisfaction: (anticipation: True, valence: -1)\n",
      "Action: 1, Anticipation: 0, Outcome: 0, Satisfaction: (anticipation: True, valence: -1)\n",
      "Action: 0, Anticipation: 1, Outcome: 1, Satisfaction: (anticipation: True, valence: 1)\n",
      "Action: 0, Anticipation: 1, Outcome: 1, Satisfaction: (anticipation: True, valence: 1)\n",
      "Action: 0, Anticipation: 1, Outcome: 1, Satisfaction: (anticipation: True, valence: 1)\n",
      "Action: 0, Anticipation: 1, Outcome: 1, Satisfaction: (anticipation: True, valence: 1)\n",
      "Action: 1, Anticipation: 0, Outcome: 0, Satisfaction: (anticipation: True, valence: -1)\n",
      "Action: 1, Anticipation: 0, Outcome: 0, Satisfaction: (anticipation: True, valence: -1)\n",
      "Action: 1, Anticipation: 0, Outcome: 0, Satisfaction: (anticipation: True, valence: -1)\n",
      "Action: 1, Anticipation: 0, Outcome: 0, Satisfaction: (anticipation: True, valence: -1)\n",
      "Action: 0, Anticipation: 1, Outcome: 1, Satisfaction: (anticipation: True, valence: 1)\n"
     ]
    }
   ],
   "source": [
    "e = Environment2()\n",
    "outcome = 0\n",
    "for i in range(20):\n",
    "    action = a.action(outcome)\n",
    "    outcome = e.outcome(action)"
   ]
  },
  {
   "cell_type": "markdown",
   "id": "ea9b5c22",
   "metadata": {},
   "source": [
    "## Agent 2 : L'agent qui préférait les interactions positives\n",
    "(sauf s'il s'ennuie)\n",
    "\n",
    "L’agent 2 doit choisir préférentiellement les interactions qui ont une valeur hédoniste positive, sauf s’il s’ennuie, auquel cas il préfère faire une action différente même si elle conduit à une interaction de valeur négative.\n",
    "\n",
    "Dans la trace, on doit donc voir que l’agent répète plusieurs fois une action qui produit une interaction positive jusqu’à ce qu’il s’ennuie. Ensuite, il fait une seule fois une action différente qui produit une interaction de valeur négative. Ensuite, il fait à nouveau plusieurs fois l’action qui produit une interaction de valeur positive (Figure 1).\n",
    "\n",
    "![Figure 1](https://user-images.githubusercontent.com/11695651/98084964-e7488680-1e7c-11eb-901a-5f3b6003c432.PNG)\n",
    "\n",
    "_Figure 1. Noter que pendant les 4 premiers cycles d'interaction, l'agent n'essaie pas action 1 car il ignore encore qu'elle produit outcome 1 qui correspond à une interaction de valence positive_\n",
    "\n",
    "Tester votre agent dans Environment1 et dans Environment2. Testez aussi votre agent avec une table de valences différentes, par exemple valences = [[1, -1], [1, -1]]"
   ]
  },
  {
   "cell_type": "markdown",
   "id": "931f5839",
   "metadata": {},
   "source": [
    "### Code de l'agent 2"
   ]
  },
  {
   "cell_type": "code",
   "execution_count": 10,
   "id": "af3fd61225a7620d",
   "metadata": {
    "ExecuteTime": {
     "end_time": "2023-10-02T12:15:48.638167Z",
     "start_time": "2023-10-02T12:15:48.626785Z"
    },
    "collapsed": false
   },
   "outputs": [],
   "source": [
    "class Agent2:\n",
    "    def __init__(self, valence_table):\n",
    "        \"\"\" Creating our agent \"\"\"\n",
    "        self.valence_table = valence_table\n",
    "        self._action = None\n",
    "        self.anticipated_outcome = None\n",
    "        self.memory_anticipation = {}  # {action: outcome}\n",
    "        self.last_and_satisfaction = []  # [action, satisfaction]\n",
    "\n",
    "    def action(self, outcome):\n",
    "        \"\"\" tracing the previous cycle \"\"\"\n",
    "        if self._action is not None:\n",
    "            print(\"Action: \" + str(self._action) +\n",
    "                  \", Anticipation: \" + str(self.anticipated_outcome) +\n",
    "                  \", Outcome: \" + str(outcome) +\n",
    "                  \", Satisfaction: (anticipation: \" + str(self.anticipated_outcome == outcome) +\n",
    "                  \", valence: \" + str(self.valence_table[self._action][outcome]) + \")\")\n",
    "\n",
    "            self.memory_anticipation[self._action] = outcome\n",
    "            self.last_and_satisfaction.append([self._action, self.anticipated_outcome == outcome])\n",
    "\n",
    "        \"\"\" Computing the next action to enact \"\"\"\n",
    "        # TODO: Implement the agent's decision mechanism\n",
    "        if self._action is None:\n",
    "            self._action = 0\n",
    "        # Si on a fait 4 actions identiques, on change d'action \n",
    "        if len(self.last_and_satisfaction) >= 4:\n",
    "            if self.last_and_satisfaction[-1][0] == self.last_and_satisfaction[-2][0] == self.last_and_satisfaction[-3][\n",
    "                0] == self.last_and_satisfaction[-4][0]:\n",
    "                self._action = 1 - self._action\n",
    "                return self._action\n",
    "        # Si on connait une action qui rapporte une valence plus grande que l'action actuelle, on change d'action\n",
    "        for action in self.memory_anticipation:\n",
    "            if self.valence_table[action][self.memory_anticipation[action]] > self.valence_table[self._action][\n",
    "                self.memory_anticipation[self._action]]:\n",
    "                self._action = action\n",
    "\n",
    "        # TODO: Implement the agent's anticipation mechanism\n",
    "        self.anticipated_outcome = 0\n",
    "        if self._action in self.memory_anticipation:\n",
    "            self.anticipated_outcome = self.memory_anticipation[self._action]\n",
    "        return self._action"
   ]
  },
  {
   "cell_type": "markdown",
   "id": "376a0d0d",
   "metadata": {},
   "source": [
    "### Test de l'agent 2 dans l'environnement 1"
   ]
  },
  {
   "cell_type": "code",
   "execution_count": 11,
   "id": "591c29c38aa2bff4",
   "metadata": {
    "ExecuteTime": {
     "end_time": "2023-10-02T12:15:49.518289Z",
     "start_time": "2023-10-02T12:15:49.512937Z"
    },
    "collapsed": false
   },
   "outputs": [
    {
     "name": "stdout",
     "output_type": "stream",
     "text": [
      "Action: 0, Anticipation: 0, Outcome: 0, Satisfaction: (anticipation: True, valence: 1)\n",
      "Action: 0, Anticipation: 0, Outcome: 0, Satisfaction: (anticipation: True, valence: 1)\n",
      "Action: 0, Anticipation: 0, Outcome: 0, Satisfaction: (anticipation: True, valence: 1)\n",
      "Action: 0, Anticipation: 0, Outcome: 0, Satisfaction: (anticipation: True, valence: 1)\n",
      "Action: 1, Anticipation: 0, Outcome: 1, Satisfaction: (anticipation: False, valence: -1)\n",
      "Action: 0, Anticipation: 0, Outcome: 0, Satisfaction: (anticipation: True, valence: 1)\n",
      "Action: 0, Anticipation: 0, Outcome: 0, Satisfaction: (anticipation: True, valence: 1)\n",
      "Action: 0, Anticipation: 0, Outcome: 0, Satisfaction: (anticipation: True, valence: 1)\n",
      "Action: 0, Anticipation: 0, Outcome: 0, Satisfaction: (anticipation: True, valence: 1)\n",
      "Action: 1, Anticipation: 0, Outcome: 1, Satisfaction: (anticipation: False, valence: -1)\n",
      "Action: 0, Anticipation: 0, Outcome: 0, Satisfaction: (anticipation: True, valence: 1)\n",
      "Action: 0, Anticipation: 0, Outcome: 0, Satisfaction: (anticipation: True, valence: 1)\n",
      "Action: 0, Anticipation: 0, Outcome: 0, Satisfaction: (anticipation: True, valence: 1)\n",
      "Action: 0, Anticipation: 0, Outcome: 0, Satisfaction: (anticipation: True, valence: 1)\n",
      "Action: 1, Anticipation: 0, Outcome: 1, Satisfaction: (anticipation: False, valence: -1)\n",
      "Action: 0, Anticipation: 0, Outcome: 0, Satisfaction: (anticipation: True, valence: 1)\n",
      "Action: 0, Anticipation: 0, Outcome: 0, Satisfaction: (anticipation: True, valence: 1)\n",
      "Action: 0, Anticipation: 0, Outcome: 0, Satisfaction: (anticipation: True, valence: 1)\n",
      "Action: 0, Anticipation: 0, Outcome: 0, Satisfaction: (anticipation: True, valence: 1)\n"
     ]
    }
   ],
   "source": [
    "a = Agent2(valences)\n",
    "e = Environment1()\n",
    "outcome = 0\n",
    "for i in range(20):\n",
    "    action = a.action(outcome)\n",
    "    outcome = e.outcome(action)"
   ]
  },
  {
   "cell_type": "markdown",
   "id": "921cde75",
   "metadata": {},
   "source": [
    "### Test de l'agent 2 dans l'environnement 2"
   ]
  },
  {
   "cell_type": "code",
   "execution_count": 12,
   "id": "63f768d2c34bad34",
   "metadata": {
    "ExecuteTime": {
     "end_time": "2023-10-02T12:15:50.590706Z",
     "start_time": "2023-10-02T12:15:50.580073Z"
    },
    "collapsed": false
   },
   "outputs": [
    {
     "name": "stdout",
     "output_type": "stream",
     "text": [
      "Action: 1, Anticipation: 0, Outcome: 0, Satisfaction: (anticipation: True, valence: 1)\n",
      "Action: 1, Anticipation: 0, Outcome: 0, Satisfaction: (anticipation: True, valence: 1)\n",
      "Action: 1, Anticipation: 0, Outcome: 0, Satisfaction: (anticipation: True, valence: 1)\n",
      "Action: 1, Anticipation: 0, Outcome: 0, Satisfaction: (anticipation: True, valence: 1)\n",
      "Action: 0, Anticipation: 0, Outcome: 1, Satisfaction: (anticipation: False, valence: -1)\n",
      "Action: 1, Anticipation: 0, Outcome: 0, Satisfaction: (anticipation: True, valence: 1)\n",
      "Action: 1, Anticipation: 0, Outcome: 0, Satisfaction: (anticipation: True, valence: 1)\n",
      "Action: 1, Anticipation: 0, Outcome: 0, Satisfaction: (anticipation: True, valence: 1)\n",
      "Action: 1, Anticipation: 0, Outcome: 0, Satisfaction: (anticipation: True, valence: 1)\n",
      "Action: 0, Anticipation: 0, Outcome: 1, Satisfaction: (anticipation: False, valence: -1)\n",
      "Action: 1, Anticipation: 0, Outcome: 0, Satisfaction: (anticipation: True, valence: 1)\n",
      "Action: 1, Anticipation: 0, Outcome: 0, Satisfaction: (anticipation: True, valence: 1)\n",
      "Action: 1, Anticipation: 0, Outcome: 0, Satisfaction: (anticipation: True, valence: 1)\n",
      "Action: 1, Anticipation: 0, Outcome: 0, Satisfaction: (anticipation: True, valence: 1)\n",
      "Action: 0, Anticipation: 0, Outcome: 1, Satisfaction: (anticipation: False, valence: -1)\n",
      "Action: 1, Anticipation: 0, Outcome: 0, Satisfaction: (anticipation: True, valence: 1)\n",
      "Action: 1, Anticipation: 0, Outcome: 0, Satisfaction: (anticipation: True, valence: 1)\n",
      "Action: 1, Anticipation: 0, Outcome: 0, Satisfaction: (anticipation: True, valence: 1)\n",
      "Action: 1, Anticipation: 0, Outcome: 0, Satisfaction: (anticipation: True, valence: 1)\n",
      "Action: 0, Anticipation: 0, Outcome: 1, Satisfaction: (anticipation: False, valence: -1)\n"
     ]
    }
   ],
   "source": [
    "e = Environment2()\n",
    "outcome = 0\n",
    "for i in range(20):\n",
    "    action = a.action(outcome)\n",
    "    outcome = e.outcome(action)"
   ]
  },
  {
   "cell_type": "code",
   "execution_count": 13,
   "id": "8c6b8e7e49256651",
   "metadata": {
    "ExecuteTime": {
     "end_time": "2023-10-02T12:15:51.467828Z",
     "start_time": "2023-10-02T12:15:51.462989Z"
    },
    "collapsed": false
   },
   "outputs": [
    {
     "name": "stdout",
     "output_type": "stream",
     "text": [
      "Action: 0, Anticipation: 0, Outcome: 1, Satisfaction: (anticipation: False, valence: -1)\n",
      "Action: 0, Anticipation: 1, Outcome: 1, Satisfaction: (anticipation: True, valence: -1)\n",
      "Action: 0, Anticipation: 1, Outcome: 1, Satisfaction: (anticipation: True, valence: -1)\n",
      "Action: 0, Anticipation: 1, Outcome: 1, Satisfaction: (anticipation: True, valence: -1)\n",
      "Action: 1, Anticipation: 1, Outcome: 0, Satisfaction: (anticipation: False, valence: 1)\n",
      "Action: 1, Anticipation: 0, Outcome: 0, Satisfaction: (anticipation: True, valence: 1)\n",
      "Action: 1, Anticipation: 0, Outcome: 0, Satisfaction: (anticipation: True, valence: 1)\n",
      "Action: 1, Anticipation: 0, Outcome: 0, Satisfaction: (anticipation: True, valence: 1)\n",
      "Action: 0, Anticipation: 0, Outcome: 1, Satisfaction: (anticipation: False, valence: -1)\n",
      "Action: 1, Anticipation: 0, Outcome: 0, Satisfaction: (anticipation: True, valence: 1)\n",
      "Action: 1, Anticipation: 0, Outcome: 0, Satisfaction: (anticipation: True, valence: 1)\n",
      "Action: 1, Anticipation: 0, Outcome: 0, Satisfaction: (anticipation: True, valence: 1)\n",
      "Action: 1, Anticipation: 0, Outcome: 0, Satisfaction: (anticipation: True, valence: 1)\n",
      "Action: 0, Anticipation: 0, Outcome: 1, Satisfaction: (anticipation: False, valence: -1)\n",
      "Action: 1, Anticipation: 0, Outcome: 0, Satisfaction: (anticipation: True, valence: 1)\n",
      "Action: 1, Anticipation: 0, Outcome: 0, Satisfaction: (anticipation: True, valence: 1)\n",
      "Action: 1, Anticipation: 0, Outcome: 0, Satisfaction: (anticipation: True, valence: 1)\n",
      "Action: 1, Anticipation: 0, Outcome: 0, Satisfaction: (anticipation: True, valence: 1)\n",
      "Action: 0, Anticipation: 0, Outcome: 1, Satisfaction: (anticipation: False, valence: -1)\n"
     ]
    }
   ],
   "source": [
    "valences = [[1, -1], [1, -1]]\n",
    "a = Agent2(valences)\n",
    "outcome = 0\n",
    "for i in range(20):\n",
    "    action = a.action(outcome)\n",
    "    outcome = e.outcome(action)"
   ]
  },
  {
   "cell_type": "markdown",
   "id": "562152aa",
   "metadata": {},
   "source": [
    "## Agente 3 : L'agent qui pilotait une tortue\n",
    "Excuter l'Agent2 que vous avez fait précédemment dans l'environnement TurtlePy. Pour cela, modifiez world.py pour que votre agent intéragisse avec l'environnement Turtlepy_enacter.py.\n",
    "\n",
    "L'environnement TurtlePy_enacter renvoie outcome 0 quand la tortue avance sans se cogner, et outcome 1 quand elle se cogne sur le bord de la fenêtre. Il peut être nécessaire d'agrandir la fenêtre avec votre souris pour voir le bord.\n",
    "\n",
    "![Figure 1](https://user-images.githubusercontent.com/11695651/140096204-1518e200-fc1f-4f5c-9615-39a058fa4368.PNG)\n",
    "\n",
    "_Figure 1: Les déplacements générées par TurtlePy-enacter dans l'environnement TurtlePy_\n",
    "\n",
    "Créer un Agent3 en modifiant votre Agent2 pour qu'il puisse choisir parmi 3 actions: 0, 1 ou 2. Choisissez des valences pour les interactions qui font que l'agent ne se retrouve pas coincé sur un bord de l'environnement TurtlePy.\n",
    "\n",
    "Modifier le code de Agent3 pour rendre ses comportements encore un peu plus intéressants mais sans coder des présuppositions sur ses actions ni sur les outcomes. Il faut que votre agent génère des comportements intéressants même si on inverse les codes des actions et des outcomes dans l'environnement (mais on garde la possibilité d'adapter la table des valences)."
   ]
  },
  {
   "cell_type": "markdown",
   "id": "28a0086b",
   "metadata": {},
   "source": [
    "### Exécution de l'agent 2 dans l'environnement TurtlePy"
   ]
  },
  {
   "cell_type": "code",
   "execution_count": 17,
   "id": "3fd75b0058535cb5",
   "metadata": {
    "ExecuteTime": {
     "end_time": "2023-10-02T12:21:30.204333Z",
     "start_time": "2023-10-02T12:20:27.983699Z"
    },
    "collapsed": false
   },
   "outputs": [
    {
     "name": "stdout",
     "output_type": "stream",
     "text": [
      "Action: 0, Anticipation: 0, Outcome: 0, Satisfaction: (anticipation: True, valence: 1)\n",
      "Action: 0, Anticipation: 0, Outcome: 0, Satisfaction: (anticipation: True, valence: 1)\n",
      "Action: 0, Anticipation: 0, Outcome: 0, Satisfaction: (anticipation: True, valence: 1)\n",
      "Action: 0, Anticipation: 0, Outcome: 0, Satisfaction: (anticipation: True, valence: 1)\n",
      "Action: 1, Anticipation: 0, Outcome: 1, Satisfaction: (anticipation: False, valence: -1)\n",
      "Action: 0, Anticipation: 0, Outcome: 1, Satisfaction: (anticipation: False, valence: -1)\n",
      "Action: 0, Anticipation: 1, Outcome: 1, Satisfaction: (anticipation: True, valence: -1)\n",
      "Action: 0, Anticipation: 1, Outcome: 1, Satisfaction: (anticipation: True, valence: -1)\n",
      "Action: 0, Anticipation: 1, Outcome: 1, Satisfaction: (anticipation: True, valence: -1)\n",
      "Action: 1, Anticipation: 1, Outcome: 1, Satisfaction: (anticipation: True, valence: -1)\n",
      "Action: 1, Anticipation: 1, Outcome: 1, Satisfaction: (anticipation: True, valence: -1)\n",
      "Action: 1, Anticipation: 1, Outcome: 1, Satisfaction: (anticipation: True, valence: -1)\n",
      "Action: 1, Anticipation: 1, Outcome: 0, Satisfaction: (anticipation: False, valence: 1)\n",
      "Action: 2, Anticipation: 1, Outcome: 0, Satisfaction: (anticipation: False, valence: 1)\n",
      "Action: 2, Anticipation: 0, Outcome: 1, Satisfaction: (anticipation: False, valence: -1)\n",
      "Action: 1, Anticipation: 0, Outcome: 1, Satisfaction: (anticipation: False, valence: -1)\n",
      "Action: 1, Anticipation: 1, Outcome: 0, Satisfaction: (anticipation: False, valence: 1)\n",
      "Action: 1, Anticipation: 0, Outcome: 0, Satisfaction: (anticipation: True, valence: 1)\n",
      "Action: 1, Anticipation: 0, Outcome: 0, Satisfaction: (anticipation: True, valence: 1)\n"
     ]
    }
   ],
   "source": [
    "from turtlepy_enacter import TurtlePyEnacter\n",
    "\n",
    "turtle = TurtlePyEnacter()\n",
    "valences = [[1, -1], [1, -1]]\n",
    "a = Agent2(valences)\n",
    "outcome = 0\n",
    "for i in range(20):\n",
    "    action = a.action(outcome)\n",
    "    outcome = turtle.outcome(action)"
   ]
  },
  {
   "cell_type": "markdown",
   "id": "0971b8aa",
   "metadata": {},
   "source": [
    "### Création de l'agent 3"
   ]
  },
  {
   "cell_type": "code",
   "execution_count": 1,
   "id": "ecd94b70b9c00f1",
   "metadata": {
    "ExecuteTime": {
     "end_time": "2023-10-02T12:23:31.241685Z",
     "start_time": "2023-10-02T12:23:31.227381Z"
    },
    "collapsed": false
   },
   "outputs": [],
   "source": [
    "class Agent3:\n",
    "    def __init__(self, valence_table):\n",
    "        \"\"\" Creating our agent \"\"\"\n",
    "        self.valence_table = valence_table\n",
    "        self._action = None\n",
    "        self.anticipated_outcome = None\n",
    "        self.memory_anticipation = {}  # {action: outcome}\n",
    "        self.last_and_satisfaction = []  # [action, satisfaction]\n",
    "\n",
    "    def action(self, outcome):\n",
    "        \"\"\" tracing the previous cycle \"\"\"\n",
    "        if self._action is not None:\n",
    "            print(\"Action: \" + str(self._action) +\n",
    "                  \", Anticipation: \" + str(self.anticipated_outcome) +\n",
    "                  \", Outcome: \" + str(outcome) +\n",
    "                  \", Satisfaction: (anticipation: \" + str(self.anticipated_outcome == outcome) +\n",
    "                  \", valence: \" + str(self.valence_table[self._action][outcome]) + \")\")\n",
    "\n",
    "            self.memory_anticipation[self._action] = outcome\n",
    "            self.last_and_satisfaction.append([self._action, self.anticipated_outcome == outcome])\n",
    "\n",
    "        \"\"\" Computing the next action to enact \"\"\"\n",
    "        if self._action is None:\n",
    "            self._action = 0\n",
    "        # Si on a fait 4 actions identiques, on change d'action \n",
    "        if len(self.last_and_satisfaction) >= 4:\n",
    "            if self.last_and_satisfaction[-1][0] == self.last_and_satisfaction[-2][0] == self.last_and_satisfaction[-3][\n",
    "                0] == self.last_and_satisfaction[-4][0]:\n",
    "                self._action = (self._action + 1) % 3\n",
    "                return self._action\n",
    "            \n",
    "        # Si on connait une action qui rapporte une valence plus grande que l'action actuelle, on change d'action\n",
    "        for action in self.memory_anticipation:\n",
    "            if self.valence_table[action][self.memory_anticipation[action]] > self.valence_table[self._action][\n",
    "                self.memory_anticipation[self._action]]:\n",
    "                self._action = action\n",
    "        \n",
    "\n",
    "        self.anticipated_outcome = 0\n",
    "        if self._action in self.memory_anticipation:\n",
    "            self.anticipated_outcome = self.memory_anticipation[self._action]\n",
    "        return self._action\n",
    "\n",
    "\n",
    "\n"
   ]
  },
  {
   "cell_type": "markdown",
   "id": "3af57adc",
   "metadata": {},
   "source": [
    "### Exécution de l'agent 3"
   ]
  },
  {
   "cell_type": "code",
   "execution_count": 6,
   "id": "4f8c60bb5df6d4cb",
   "metadata": {
    "collapsed": false
   },
   "outputs": [
    {
     "name": "stdout",
     "output_type": "stream",
     "text": [
      "Action: 0, Anticipation: 0, Outcome: 0, Satisfaction: (anticipation: True, valence: 1)\n",
      "Action: 0, Anticipation: 0, Outcome: 0, Satisfaction: (anticipation: True, valence: 1)\n",
      "Action: 0, Anticipation: 0, Outcome: 0, Satisfaction: (anticipation: True, valence: 1)\n",
      "Action: 0, Anticipation: 0, Outcome: 0, Satisfaction: (anticipation: True, valence: 1)\n",
      "Action: 1, Anticipation: 0, Outcome: 1, Satisfaction: (anticipation: False, valence: -1)\n",
      "Action: 0, Anticipation: 0, Outcome: 1, Satisfaction: (anticipation: False, valence: -1)\n",
      "Action: 0, Anticipation: 1, Outcome: 1, Satisfaction: (anticipation: True, valence: -1)\n",
      "Action: 0, Anticipation: 1, Outcome: 1, Satisfaction: (anticipation: True, valence: -1)\n",
      "Action: 0, Anticipation: 1, Outcome: 1, Satisfaction: (anticipation: True, valence: -1)\n",
      "Action: 1, Anticipation: 1, Outcome: 1, Satisfaction: (anticipation: True, valence: -1)\n",
      "Action: 1, Anticipation: 1, Outcome: 1, Satisfaction: (anticipation: True, valence: -1)\n",
      "Action: 1, Anticipation: 1, Outcome: 1, Satisfaction: (anticipation: True, valence: -1)\n",
      "Action: 1, Anticipation: 1, Outcome: 0, Satisfaction: (anticipation: False, valence: 1)\n",
      "Action: 2, Anticipation: 1, Outcome: 0, Satisfaction: (anticipation: False, valence: 1)\n",
      "Action: 2, Anticipation: 0, Outcome: 1, Satisfaction: (anticipation: False, valence: -1)\n",
      "Action: 1, Anticipation: 0, Outcome: 1, Satisfaction: (anticipation: False, valence: -1)\n",
      "Action: 1, Anticipation: 1, Outcome: 0, Satisfaction: (anticipation: False, valence: 1)\n",
      "Action: 1, Anticipation: 0, Outcome: 0, Satisfaction: (anticipation: True, valence: 1)\n",
      "Action: 1, Anticipation: 0, Outcome: 0, Satisfaction: (anticipation: True, valence: 1)\n",
      "Action: 2, Anticipation: 0, Outcome: 0, Satisfaction: (anticipation: True, valence: 1)\n",
      "Action: 2, Anticipation: 0, Outcome: 0, Satisfaction: (anticipation: True, valence: 1)\n",
      "Action: 2, Anticipation: 0, Outcome: 0, Satisfaction: (anticipation: True, valence: 1)\n",
      "Action: 2, Anticipation: 0, Outcome: 0, Satisfaction: (anticipation: True, valence: 1)\n",
      "Action: 0, Anticipation: 0, Outcome: 0, Satisfaction: (anticipation: True, valence: 1)\n",
      "Action: 0, Anticipation: 0, Outcome: 1, Satisfaction: (anticipation: False, valence: -1)\n",
      "Action: 1, Anticipation: 0, Outcome: 1, Satisfaction: (anticipation: False, valence: -1)\n",
      "Action: 2, Anticipation: 0, Outcome: 1, Satisfaction: (anticipation: False, valence: -1)\n",
      "Action: 2, Anticipation: 1, Outcome: 1, Satisfaction: (anticipation: True, valence: -1)\n",
      "Action: 2, Anticipation: 1, Outcome: 1, Satisfaction: (anticipation: True, valence: -1)\n",
      "Action: 2, Anticipation: 1, Outcome: 0, Satisfaction: (anticipation: False, valence: 1)\n",
      "Action: 0, Anticipation: 1, Outcome: 0, Satisfaction: (anticipation: False, valence: 1)\n",
      "Action: 0, Anticipation: 0, Outcome: 0, Satisfaction: (anticipation: True, valence: 1)\n",
      "Action: 0, Anticipation: 0, Outcome: 0, Satisfaction: (anticipation: True, valence: 1)\n",
      "Action: 0, Anticipation: 0, Outcome: 0, Satisfaction: (anticipation: True, valence: 1)\n",
      "Action: 1, Anticipation: 0, Outcome: 1, Satisfaction: (anticipation: False, valence: -1)\n",
      "Action: 0, Anticipation: 0, Outcome: 1, Satisfaction: (anticipation: False, valence: -1)\n",
      "Action: 2, Anticipation: 0, Outcome: 1, Satisfaction: (anticipation: False, valence: -1)\n",
      "Action: 2, Anticipation: 1, Outcome: 1, Satisfaction: (anticipation: True, valence: -1)\n",
      "Action: 2, Anticipation: 1, Outcome: 1, Satisfaction: (anticipation: True, valence: -1)\n",
      "Action: 2, Anticipation: 1, Outcome: 0, Satisfaction: (anticipation: False, valence: 1)\n",
      "Action: 0, Anticipation: 1, Outcome: 0, Satisfaction: (anticipation: False, valence: 1)\n",
      "Action: 0, Anticipation: 0, Outcome: 0, Satisfaction: (anticipation: True, valence: 1)\n",
      "Action: 0, Anticipation: 0, Outcome: 0, Satisfaction: (anticipation: True, valence: 1)\n",
      "Action: 0, Anticipation: 0, Outcome: 0, Satisfaction: (anticipation: True, valence: 1)\n",
      "Action: 1, Anticipation: 0, Outcome: 0, Satisfaction: (anticipation: True, valence: 1)\n",
      "Action: 1, Anticipation: 0, Outcome: 0, Satisfaction: (anticipation: True, valence: 1)\n",
      "Action: 1, Anticipation: 0, Outcome: 0, Satisfaction: (anticipation: True, valence: 1)\n",
      "Action: 1, Anticipation: 0, Outcome: 0, Satisfaction: (anticipation: True, valence: 1)\n",
      "Action: 2, Anticipation: 0, Outcome: 0, Satisfaction: (anticipation: True, valence: 1)\n",
      "Action: 2, Anticipation: 0, Outcome: 0, Satisfaction: (anticipation: True, valence: 1)\n",
      "Action: 2, Anticipation: 0, Outcome: 0, Satisfaction: (anticipation: True, valence: 1)\n",
      "Action: 2, Anticipation: 0, Outcome: 0, Satisfaction: (anticipation: True, valence: 1)\n",
      "Action: 0, Anticipation: 0, Outcome: 1, Satisfaction: (anticipation: False, valence: -1)\n",
      "Action: 1, Anticipation: 0, Outcome: 1, Satisfaction: (anticipation: False, valence: -1)\n",
      "Action: 2, Anticipation: 0, Outcome: 1, Satisfaction: (anticipation: False, valence: -1)\n",
      "Action: 2, Anticipation: 1, Outcome: 1, Satisfaction: (anticipation: True, valence: -1)\n",
      "Action: 2, Anticipation: 1, Outcome: 0, Satisfaction: (anticipation: False, valence: 1)\n",
      "Action: 2, Anticipation: 0, Outcome: 0, Satisfaction: (anticipation: True, valence: 1)\n",
      "Action: 0, Anticipation: 0, Outcome: 0, Satisfaction: (anticipation: True, valence: 1)\n",
      "Action: 0, Anticipation: 0, Outcome: 0, Satisfaction: (anticipation: True, valence: 1)\n",
      "Action: 0, Anticipation: 0, Outcome: 0, Satisfaction: (anticipation: True, valence: 1)\n",
      "Action: 0, Anticipation: 0, Outcome: 0, Satisfaction: (anticipation: True, valence: 1)\n",
      "Action: 1, Anticipation: 0, Outcome: 0, Satisfaction: (anticipation: True, valence: 1)\n",
      "Action: 1, Anticipation: 0, Outcome: 0, Satisfaction: (anticipation: True, valence: 1)\n",
      "Action: 1, Anticipation: 0, Outcome: 0, Satisfaction: (anticipation: True, valence: 1)\n",
      "Action: 1, Anticipation: 0, Outcome: 0, Satisfaction: (anticipation: True, valence: 1)\n",
      "Action: 2, Anticipation: 0, Outcome: 0, Satisfaction: (anticipation: True, valence: 1)\n",
      "Action: 2, Anticipation: 0, Outcome: 0, Satisfaction: (anticipation: True, valence: 1)\n",
      "Action: 2, Anticipation: 0, Outcome: 0, Satisfaction: (anticipation: True, valence: 1)\n",
      "Action: 2, Anticipation: 0, Outcome: 0, Satisfaction: (anticipation: True, valence: 1)\n",
      "Action: 0, Anticipation: 0, Outcome: 0, Satisfaction: (anticipation: True, valence: 1)\n",
      "Action: 0, Anticipation: 0, Outcome: 0, Satisfaction: (anticipation: True, valence: 1)\n",
      "Action: 0, Anticipation: 0, Outcome: 0, Satisfaction: (anticipation: True, valence: 1)\n",
      "Action: 0, Anticipation: 0, Outcome: 1, Satisfaction: (anticipation: False, valence: -1)\n",
      "Action: 1, Anticipation: 0, Outcome: 1, Satisfaction: (anticipation: False, valence: -1)\n",
      "Action: 2, Anticipation: 0, Outcome: 1, Satisfaction: (anticipation: False, valence: -1)\n",
      "Action: 2, Anticipation: 1, Outcome: 1, Satisfaction: (anticipation: True, valence: -1)\n",
      "Action: 2, Anticipation: 1, Outcome: 1, Satisfaction: (anticipation: True, valence: -1)\n",
      "Action: 2, Anticipation: 1, Outcome: 0, Satisfaction: (anticipation: False, valence: 1)\n",
      "Action: 0, Anticipation: 1, Outcome: 0, Satisfaction: (anticipation: False, valence: 1)\n",
      "Action: 0, Anticipation: 0, Outcome: 0, Satisfaction: (anticipation: True, valence: 1)\n",
      "Action: 0, Anticipation: 0, Outcome: 0, Satisfaction: (anticipation: True, valence: 1)\n",
      "Action: 0, Anticipation: 0, Outcome: 0, Satisfaction: (anticipation: True, valence: 1)\n",
      "Action: 1, Anticipation: 0, Outcome: 1, Satisfaction: (anticipation: False, valence: -1)\n",
      "Action: 0, Anticipation: 0, Outcome: 1, Satisfaction: (anticipation: False, valence: -1)\n",
      "Action: 2, Anticipation: 0, Outcome: 0, Satisfaction: (anticipation: True, valence: 1)\n",
      "Action: 2, Anticipation: 0, Outcome: 0, Satisfaction: (anticipation: True, valence: 1)\n",
      "Action: 2, Anticipation: 0, Outcome: 0, Satisfaction: (anticipation: True, valence: 1)\n",
      "Action: 2, Anticipation: 0, Outcome: 0, Satisfaction: (anticipation: True, valence: 1)\n",
      "Action: 0, Anticipation: 0, Outcome: 0, Satisfaction: (anticipation: True, valence: 1)\n",
      "Action: 0, Anticipation: 0, Outcome: 0, Satisfaction: (anticipation: True, valence: 1)\n",
      "Action: 0, Anticipation: 0, Outcome: 0, Satisfaction: (anticipation: True, valence: 1)\n",
      "Action: 0, Anticipation: 0, Outcome: 0, Satisfaction: (anticipation: True, valence: 1)\n",
      "Action: 1, Anticipation: 0, Outcome: 0, Satisfaction: (anticipation: True, valence: 1)\n",
      "Action: 1, Anticipation: 0, Outcome: 0, Satisfaction: (anticipation: True, valence: 1)\n",
      "Action: 1, Anticipation: 0, Outcome: 0, Satisfaction: (anticipation: True, valence: 1)\n",
      "Action: 1, Anticipation: 0, Outcome: 0, Satisfaction: (anticipation: True, valence: 1)\n",
      "Action: 2, Anticipation: 0, Outcome: 0, Satisfaction: (anticipation: True, valence: 1)\n",
      "Action: 2, Anticipation: 0, Outcome: 0, Satisfaction: (anticipation: True, valence: 1)\n",
      "Action: 2, Anticipation: 0, Outcome: 0, Satisfaction: (anticipation: True, valence: 1)\n",
      "Action: 2, Anticipation: 0, Outcome: 0, Satisfaction: (anticipation: True, valence: 1)\n",
      "Action: 0, Anticipation: 0, Outcome: 1, Satisfaction: (anticipation: False, valence: -1)\n",
      "Action: 1, Anticipation: 0, Outcome: 1, Satisfaction: (anticipation: False, valence: -1)\n",
      "Action: 2, Anticipation: 0, Outcome: 1, Satisfaction: (anticipation: False, valence: -1)\n",
      "Action: 2, Anticipation: 1, Outcome: 1, Satisfaction: (anticipation: True, valence: -1)\n",
      "Action: 2, Anticipation: 1, Outcome: 0, Satisfaction: (anticipation: False, valence: 1)\n",
      "Action: 2, Anticipation: 0, Outcome: 0, Satisfaction: (anticipation: True, valence: 1)\n",
      "Action: 0, Anticipation: 0, Outcome: 0, Satisfaction: (anticipation: True, valence: 1)\n",
      "Action: 0, Anticipation: 0, Outcome: 0, Satisfaction: (anticipation: True, valence: 1)\n",
      "Action: 0, Anticipation: 0, Outcome: 0, Satisfaction: (anticipation: True, valence: 1)\n",
      "Action: 0, Anticipation: 0, Outcome: 0, Satisfaction: (anticipation: True, valence: 1)\n",
      "Action: 1, Anticipation: 0, Outcome: 0, Satisfaction: (anticipation: True, valence: 1)\n",
      "Action: 1, Anticipation: 0, Outcome: 0, Satisfaction: (anticipation: True, valence: 1)\n",
      "Action: 1, Anticipation: 0, Outcome: 0, Satisfaction: (anticipation: True, valence: 1)\n",
      "Action: 1, Anticipation: 0, Outcome: 0, Satisfaction: (anticipation: True, valence: 1)\n",
      "Action: 2, Anticipation: 0, Outcome: 0, Satisfaction: (anticipation: True, valence: 1)\n",
      "Action: 2, Anticipation: 0, Outcome: 0, Satisfaction: (anticipation: True, valence: 1)\n",
      "Action: 2, Anticipation: 0, Outcome: 0, Satisfaction: (anticipation: True, valence: 1)\n",
      "Action: 2, Anticipation: 0, Outcome: 0, Satisfaction: (anticipation: True, valence: 1)\n",
      "Action: 0, Anticipation: 0, Outcome: 0, Satisfaction: (anticipation: True, valence: 1)\n",
      "Action: 0, Anticipation: 0, Outcome: 1, Satisfaction: (anticipation: False, valence: -1)\n",
      "Action: 1, Anticipation: 0, Outcome: 1, Satisfaction: (anticipation: False, valence: -1)\n",
      "Action: 2, Anticipation: 0, Outcome: 1, Satisfaction: (anticipation: False, valence: -1)\n",
      "Action: 2, Anticipation: 1, Outcome: 0, Satisfaction: (anticipation: False, valence: 1)\n",
      "Action: 2, Anticipation: 0, Outcome: 0, Satisfaction: (anticipation: True, valence: 1)\n",
      "Action: 2, Anticipation: 0, Outcome: 0, Satisfaction: (anticipation: True, valence: 1)\n",
      "Action: 0, Anticipation: 0, Outcome: 0, Satisfaction: (anticipation: True, valence: 1)\n",
      "Action: 0, Anticipation: 0, Outcome: 0, Satisfaction: (anticipation: True, valence: 1)\n",
      "Action: 0, Anticipation: 0, Outcome: 0, Satisfaction: (anticipation: True, valence: 1)\n",
      "Action: 0, Anticipation: 0, Outcome: 0, Satisfaction: (anticipation: True, valence: 1)\n",
      "Action: 1, Anticipation: 0, Outcome: 1, Satisfaction: (anticipation: False, valence: -1)\n",
      "Action: 0, Anticipation: 0, Outcome: 1, Satisfaction: (anticipation: False, valence: -1)\n",
      "Action: 2, Anticipation: 0, Outcome: 0, Satisfaction: (anticipation: True, valence: 1)\n",
      "Action: 2, Anticipation: 0, Outcome: 0, Satisfaction: (anticipation: True, valence: 1)\n",
      "Action: 2, Anticipation: 0, Outcome: 0, Satisfaction: (anticipation: True, valence: 1)\n",
      "Action: 2, Anticipation: 0, Outcome: 0, Satisfaction: (anticipation: True, valence: 1)\n",
      "Action: 0, Anticipation: 0, Outcome: 0, Satisfaction: (anticipation: True, valence: 1)\n",
      "Action: 0, Anticipation: 0, Outcome: 0, Satisfaction: (anticipation: True, valence: 1)\n",
      "Action: 0, Anticipation: 0, Outcome: 0, Satisfaction: (anticipation: True, valence: 1)\n",
      "Action: 0, Anticipation: 0, Outcome: 0, Satisfaction: (anticipation: True, valence: 1)\n",
      "Action: 1, Anticipation: 0, Outcome: 0, Satisfaction: (anticipation: True, valence: 1)\n",
      "Action: 1, Anticipation: 0, Outcome: 0, Satisfaction: (anticipation: True, valence: 1)\n",
      "Action: 1, Anticipation: 0, Outcome: 0, Satisfaction: (anticipation: True, valence: 1)\n",
      "Action: 1, Anticipation: 0, Outcome: 0, Satisfaction: (anticipation: True, valence: 1)\n",
      "Action: 2, Anticipation: 0, Outcome: 0, Satisfaction: (anticipation: True, valence: 1)\n",
      "Action: 2, Anticipation: 0, Outcome: 0, Satisfaction: (anticipation: True, valence: 1)\n",
      "Action: 2, Anticipation: 0, Outcome: 0, Satisfaction: (anticipation: True, valence: 1)\n",
      "Action: 2, Anticipation: 0, Outcome: 0, Satisfaction: (anticipation: True, valence: 1)\n",
      "Action: 0, Anticipation: 0, Outcome: 1, Satisfaction: (anticipation: False, valence: -1)\n",
      "Action: 1, Anticipation: 0, Outcome: 1, Satisfaction: (anticipation: False, valence: -1)\n",
      "Action: 2, Anticipation: 0, Outcome: 1, Satisfaction: (anticipation: False, valence: -1)\n",
      "Action: 2, Anticipation: 1, Outcome: 1, Satisfaction: (anticipation: True, valence: -1)\n",
      "Action: 2, Anticipation: 1, Outcome: 0, Satisfaction: (anticipation: False, valence: 1)\n",
      "Action: 2, Anticipation: 0, Outcome: 0, Satisfaction: (anticipation: True, valence: 1)\n",
      "Action: 0, Anticipation: 0, Outcome: 0, Satisfaction: (anticipation: True, valence: 1)\n",
      "Action: 0, Anticipation: 0, Outcome: 0, Satisfaction: (anticipation: True, valence: 1)\n",
      "Action: 0, Anticipation: 0, Outcome: 0, Satisfaction: (anticipation: True, valence: 1)\n",
      "Action: 0, Anticipation: 0, Outcome: 0, Satisfaction: (anticipation: True, valence: 1)\n",
      "Action: 1, Anticipation: 0, Outcome: 0, Satisfaction: (anticipation: True, valence: 1)\n",
      "Action: 1, Anticipation: 0, Outcome: 0, Satisfaction: (anticipation: True, valence: 1)\n",
      "Action: 1, Anticipation: 0, Outcome: 0, Satisfaction: (anticipation: True, valence: 1)\n",
      "Action: 1, Anticipation: 0, Outcome: 0, Satisfaction: (anticipation: True, valence: 1)\n",
      "Action: 2, Anticipation: 0, Outcome: 0, Satisfaction: (anticipation: True, valence: 1)\n",
      "Action: 2, Anticipation: 0, Outcome: 0, Satisfaction: (anticipation: True, valence: 1)\n",
      "Action: 2, Anticipation: 0, Outcome: 0, Satisfaction: (anticipation: True, valence: 1)\n",
      "Action: 2, Anticipation: 0, Outcome: 0, Satisfaction: (anticipation: True, valence: 1)\n",
      "Action: 0, Anticipation: 0, Outcome: 0, Satisfaction: (anticipation: True, valence: 1)\n",
      "Action: 0, Anticipation: 0, Outcome: 1, Satisfaction: (anticipation: False, valence: -1)\n",
      "Action: 1, Anticipation: 0, Outcome: 1, Satisfaction: (anticipation: False, valence: -1)\n",
      "Action: 2, Anticipation: 0, Outcome: 1, Satisfaction: (anticipation: False, valence: -1)\n",
      "Action: 2, Anticipation: 1, Outcome: 0, Satisfaction: (anticipation: False, valence: 1)\n",
      "Action: 2, Anticipation: 0, Outcome: 0, Satisfaction: (anticipation: True, valence: 1)\n",
      "Action: 2, Anticipation: 0, Outcome: 0, Satisfaction: (anticipation: True, valence: 1)\n",
      "Action: 0, Anticipation: 0, Outcome: 0, Satisfaction: (anticipation: True, valence: 1)\n",
      "Action: 0, Anticipation: 0, Outcome: 0, Satisfaction: (anticipation: True, valence: 1)\n",
      "Action: 0, Anticipation: 0, Outcome: 0, Satisfaction: (anticipation: True, valence: 1)\n",
      "Action: 0, Anticipation: 0, Outcome: 0, Satisfaction: (anticipation: True, valence: 1)\n",
      "Action: 1, Anticipation: 0, Outcome: 1, Satisfaction: (anticipation: False, valence: -1)\n",
      "Action: 0, Anticipation: 0, Outcome: 1, Satisfaction: (anticipation: False, valence: -1)\n",
      "Action: 2, Anticipation: 0, Outcome: 0, Satisfaction: (anticipation: True, valence: 1)\n",
      "Action: 2, Anticipation: 0, Outcome: 0, Satisfaction: (anticipation: True, valence: 1)\n",
      "Action: 2, Anticipation: 0, Outcome: 0, Satisfaction: (anticipation: True, valence: 1)\n",
      "Action: 2, Anticipation: 0, Outcome: 0, Satisfaction: (anticipation: True, valence: 1)\n",
      "Action: 0, Anticipation: 0, Outcome: 0, Satisfaction: (anticipation: True, valence: 1)\n",
      "Action: 0, Anticipation: 0, Outcome: 0, Satisfaction: (anticipation: True, valence: 1)\n",
      "Action: 0, Anticipation: 0, Outcome: 0, Satisfaction: (anticipation: True, valence: 1)\n",
      "Action: 0, Anticipation: 0, Outcome: 0, Satisfaction: (anticipation: True, valence: 1)\n",
      "Action: 1, Anticipation: 0, Outcome: 0, Satisfaction: (anticipation: True, valence: 1)\n",
      "Action: 1, Anticipation: 0, Outcome: 0, Satisfaction: (anticipation: True, valence: 1)\n",
      "Action: 1, Anticipation: 0, Outcome: 0, Satisfaction: (anticipation: True, valence: 1)\n",
      "Action: 1, Anticipation: 0, Outcome: 0, Satisfaction: (anticipation: True, valence: 1)\n",
      "Action: 2, Anticipation: 0, Outcome: 0, Satisfaction: (anticipation: True, valence: 1)\n",
      "Action: 2, Anticipation: 0, Outcome: 0, Satisfaction: (anticipation: True, valence: 1)\n",
      "Action: 2, Anticipation: 0, Outcome: 0, Satisfaction: (anticipation: True, valence: 1)\n",
      "Action: 2, Anticipation: 0, Outcome: 0, Satisfaction: (anticipation: True, valence: 1)\n",
      "Action: 0, Anticipation: 0, Outcome: 1, Satisfaction: (anticipation: False, valence: -1)\n",
      "Action: 1, Anticipation: 0, Outcome: 1, Satisfaction: (anticipation: False, valence: -1)\n",
      "Action: 2, Anticipation: 0, Outcome: 1, Satisfaction: (anticipation: False, valence: -1)\n",
      "Action: 2, Anticipation: 1, Outcome: 1, Satisfaction: (anticipation: True, valence: -1)\n"
     ]
    },
    {
     "ename": "",
     "evalue": "",
     "output_type": "error",
     "traceback": [
      "\u001b[1;31mLe Kernel s’est bloqué lors de l’exécution du code dans la cellule active ou une cellule précédente. Veuillez vérifier le code dans la ou les cellules pour identifier une cause possible de l’échec. Cliquez <a href='https://aka.ms/vscodeJupyterKernelCrash'>ici</a> pour plus d’informations. Pour plus d’informations, consultez Jupyter <a href='command:jupyter.viewOutput'>log</a>."
     ]
    }
   ],
   "source": [
    "valences = [[1, -1], [1, -1], [1, -1]]\n",
    "turtle = TurtlePyEnacter()\n",
    "a = Agent3(valences)\n",
    "outcome = 0\n",
    "for i in range(200):\n",
    "    action = a.action(outcome)\n",
    "    outcome = turtle.outcome(action)\n",
    "    turtle.screen.listen()"
   ]
  },
  {
   "cell_type": "markdown",
   "id": "35c6c626",
   "metadata": {},
   "source": [
    "## Agent 4 : L'agent qui adaptait ses actions au contexte\n",
    "Créer l’Agent4 qui apprend à anticiper les résultats de ses actions dans n’importe lequel des trois environnements 1, 2 ou 3. Faire en sorte que L'Agent4 utilise cette nouvelle capacité d'anticipation pour choisir les actions qui produisent des interactions qui ont une valence positive.\n",
    "\n",
    "L’agent 4 va donc devoir choisir sa prochaine action en fonction du contexte dans lequel il se situe. Nous allons caractériser le contexte par l’interaction (couple [action, outcome]) qui a été effectuée au cycle d’avant. A chaque fin de cycle t, l'agent doit mémoriser la séquence [interaction(t-1), interaction(t)] qui a été effectuée.\n",
    "\n",
    "Pour faciliter l'implémentation, utiliser la class Interaction disponible dans resources.py.\n",
    "\n",
    "Le mécanisme prédictif de l’agent va se baser sur cette mémoire des séquences pour anticiper l’interaction qu’il pourra faire au temps t+1 connaissant l’interaction qu’il a faite au temps t.\n",
    "\n",
    "![Figure 1](https://user-images.githubusercontent.com/11695651/142997477-f6fe1338-f097-454e-aa56-42f36c7d1844.PNG)\n",
    "\n",
    "_Figure 1: Exemple de trace de l'Agent4 dans l'Environnement3._\n",
    "\n",
    "Tester l'Agent4 dans l'environnement TurtlePy utilisé précédemment. Il ne peut pas toujours anticiper qu'il va se cogner, mais quand il se cogne, il pourra anticiper que s'il essaie d'avancer encore, il se cognera à nouveau."
   ]
  }
 ],
 "metadata": {
  "kernelspec": {
   "display_name": "Python 3",
   "language": "python",
   "name": "python3"
  },
  "language_info": {
   "codemirror_mode": {
    "name": "ipython",
    "version": 3
   },
   "file_extension": ".py",
   "mimetype": "text/x-python",
   "name": "python",
   "nbconvert_exporter": "python",
   "pygments_lexer": "ipython3",
   "version": "3.11.2"
  }
 },
 "nbformat": 4,
 "nbformat_minor": 5
}
