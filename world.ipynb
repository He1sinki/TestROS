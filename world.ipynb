{
 "cells": [
  {
   "cell_type": "code",
   "execution_count": 1,
   "id": "initial_id",
   "metadata": {
    "collapsed": true,
    "ExecuteTime": {
     "end_time": "2023-10-02T12:12:31.454857Z",
     "start_time": "2023-10-02T12:12:31.245600Z"
    }
   },
   "outputs": [],
   "source": [
    "#!/usr/bin/env python\n",
    "# Olivier Georgeon, 2021.\n",
    "# This code is used to teach Developmental AI.\n",
    "# from turtlesim_enacter import TurtleSimEnacter # requires ROS\n",
    "from turtlepy_enacter import TurtlePyEnacter\n",
    "\n",
    "#from Agent5 import Agent5\n",
    "#from OsoyooCarEnacter import OsoyooCarEnacter\n",
    "ROBOT_IP = \"192.168.4.1\"\n",
    "\n",
    "\n",
    "class Agent:\n",
    "    def __init__(self, valence_table):\n",
    "        \"\"\" Creating our agent \"\"\"\n",
    "        self.valence_table = valence_table\n",
    "        self._action = None\n",
    "        self.anticipated_outcome = None\n",
    "        self.memory_anticipation = {}  # {action: outcome}\n",
    "        self.last_and_satisfaction = []  # [action, satisfaction]\n",
    "\n",
    "    def action(self, outcome):\n",
    "        \"\"\" tracing the previous cycle \"\"\"\n",
    "        if self._action is not None:\n",
    "            print(\"Action: \" + str(self._action) +\n",
    "                  \", Anticipation: \" + str(self.anticipated_outcome) +\n",
    "                  \", Outcome: \" + str(outcome) +\n",
    "                  \", Satisfaction: (anticipation: \" + str(self.anticipated_outcome == outcome) +\n",
    "                  \", valence: \" + str(self.valence_table[self._action][outcome]) + \")\")\n",
    "\n",
    "            self.memory_anticipation[self._action] = outcome\n",
    "            self.last_and_satisfaction.append([self._action, self.anticipated_outcome == outcome])\n",
    "\n",
    "        \"\"\" Computing the next action to enact \"\"\"\n",
    "        # TODO: Implement the agent's decision mechanism\n",
    "        if self._action is None:\n",
    "            self._action = 0\n",
    "        # Si les 4 derniers sont les mêmes et que la satisfaction est la même alors, on change d'action\n",
    "        if len(self.last_and_satisfaction) >= 4:\n",
    "            if self.last_and_satisfaction[-1][0] == self.last_and_satisfaction[-2][0] == self.last_and_satisfaction[-3][\n",
    "                0] == self.last_and_satisfaction[-4][0]:\n",
    "                if self.last_and_satisfaction[-1][1] == self.last_and_satisfaction[-2][1] == \\\n",
    "                        self.last_and_satisfaction[-3][1] == self.last_and_satisfaction[-4][1]:\n",
    "                    self._action = 1 - self._action\n",
    "        # TODO: Implement the agent's anticipation mechanism\n",
    "        self.anticipated_outcome = 0\n",
    "        if self._action in self.memory_anticipation:\n",
    "            self.anticipated_outcome = self.memory_anticipation[self._action]\n",
    "        return self._action\n",
    "\n",
    "\n",
    "class Environment1:\n",
    "    \"\"\" In Environment 1, action 0 yields outcome 0, action 1 yields outcome 1 \"\"\"\n",
    "\n",
    "    def outcome(self, action):\n",
    "        # return int(input(\"entre 0 1 ou 2\"))\n",
    "        if action == 0:\n",
    "            return 0\n",
    "        else:\n",
    "            return 1\n",
    "\n",
    "\n",
    "class Environment2:\n",
    "    \"\"\" In Environment 2, action 0 yields outcome 1, action 1 yields outcome 0 \"\"\"\n",
    "\n",
    "    def outcome(self, action):\n",
    "        if action == 0:\n",
    "            return 1\n",
    "        else:\n",
    "            return 0\n",
    "\n",
    "\n",
    "class Environment3:\n",
    "    \"\"\" Environment 3 yields outcome 1 only when the agent alternates actions 0 and 1 \"\"\"\n",
    "\n",
    "    def __init__(self):\n",
    "        \"\"\" Initializing Environment3 \"\"\"\n",
    "        self.previous_action = 0\n",
    "\n",
    "    def outcome(self, action):\n",
    "        _outcome = 1\n",
    "        if action == self.previous_action:\n",
    "            _outcome = 0\n",
    "        self.previous_action = action\n",
    "        return _outcome\n",
    "\n",
    "\n",
    "valences = [[-1, 1], [-1, 1]]"
   ]
  },
  {
   "cell_type": "code",
   "execution_count": 2,
   "outputs": [
    {
     "name": "stdout",
     "output_type": "stream",
     "text": [
      "Action: 0, Anticipation: 0, Outcome: 0, Satisfaction: (anticipation: True, valence: -1)\n",
      "Action: 0, Anticipation: 0, Outcome: 0, Satisfaction: (anticipation: True, valence: -1)\n",
      "Action: 0, Anticipation: 0, Outcome: 0, Satisfaction: (anticipation: True, valence: -1)\n",
      "Action: 0, Anticipation: 0, Outcome: 0, Satisfaction: (anticipation: True, valence: -1)\n",
      "Action: 1, Anticipation: 0, Outcome: 1, Satisfaction: (anticipation: False, valence: 1)\n",
      "Action: 1, Anticipation: 1, Outcome: 1, Satisfaction: (anticipation: True, valence: 1)\n",
      "Action: 1, Anticipation: 1, Outcome: 1, Satisfaction: (anticipation: True, valence: 1)\n",
      "Action: 1, Anticipation: 1, Outcome: 1, Satisfaction: (anticipation: True, valence: 1)\n",
      "Action: 1, Anticipation: 1, Outcome: 1, Satisfaction: (anticipation: True, valence: 1)\n",
      "Action: 0, Anticipation: 0, Outcome: 0, Satisfaction: (anticipation: True, valence: -1)\n",
      "Action: 0, Anticipation: 0, Outcome: 0, Satisfaction: (anticipation: True, valence: -1)\n",
      "Action: 0, Anticipation: 0, Outcome: 0, Satisfaction: (anticipation: True, valence: -1)\n",
      "Action: 0, Anticipation: 0, Outcome: 0, Satisfaction: (anticipation: True, valence: -1)\n",
      "Action: 1, Anticipation: 1, Outcome: 1, Satisfaction: (anticipation: True, valence: 1)\n",
      "Action: 1, Anticipation: 1, Outcome: 1, Satisfaction: (anticipation: True, valence: 1)\n",
      "Action: 1, Anticipation: 1, Outcome: 1, Satisfaction: (anticipation: True, valence: 1)\n",
      "Action: 1, Anticipation: 1, Outcome: 1, Satisfaction: (anticipation: True, valence: 1)\n",
      "Action: 0, Anticipation: 0, Outcome: 0, Satisfaction: (anticipation: True, valence: -1)\n",
      "Action: 0, Anticipation: 0, Outcome: 0, Satisfaction: (anticipation: True, valence: -1)\n"
     ]
    }
   ],
   "source": [
    "a = Agent(valences)\n",
    "e = Environment1()\n",
    "outcome = 0\n",
    "for i in range(20):\n",
    "    action = a.action(outcome)\n",
    "    outcome = e.outcome(action)"
   ],
   "metadata": {
    "collapsed": false,
    "ExecuteTime": {
     "end_time": "2023-10-02T12:12:31.464347Z",
     "start_time": "2023-10-02T12:12:31.455979Z"
    }
   },
   "id": "813ff354cea03a65"
  },
  {
   "cell_type": "code",
   "execution_count": 3,
   "outputs": [
    {
     "name": "stdout",
     "output_type": "stream",
     "text": [
      "Action: 0, Anticipation: 0, Outcome: 0, Satisfaction: (anticipation: True, valence: -1)\n",
      "Action: 0, Anticipation: 0, Outcome: 1, Satisfaction: (anticipation: False, valence: 1)\n",
      "Action: 0, Anticipation: 1, Outcome: 1, Satisfaction: (anticipation: True, valence: 1)\n",
      "Action: 0, Anticipation: 1, Outcome: 1, Satisfaction: (anticipation: True, valence: 1)\n",
      "Action: 0, Anticipation: 1, Outcome: 1, Satisfaction: (anticipation: True, valence: 1)\n",
      "Action: 0, Anticipation: 1, Outcome: 1, Satisfaction: (anticipation: True, valence: 1)\n",
      "Action: 1, Anticipation: 1, Outcome: 0, Satisfaction: (anticipation: False, valence: -1)\n",
      "Action: 1, Anticipation: 0, Outcome: 0, Satisfaction: (anticipation: True, valence: -1)\n",
      "Action: 1, Anticipation: 0, Outcome: 0, Satisfaction: (anticipation: True, valence: -1)\n",
      "Action: 1, Anticipation: 0, Outcome: 0, Satisfaction: (anticipation: True, valence: -1)\n",
      "Action: 1, Anticipation: 0, Outcome: 0, Satisfaction: (anticipation: True, valence: -1)\n",
      "Action: 0, Anticipation: 1, Outcome: 1, Satisfaction: (anticipation: True, valence: 1)\n",
      "Action: 0, Anticipation: 1, Outcome: 1, Satisfaction: (anticipation: True, valence: 1)\n",
      "Action: 0, Anticipation: 1, Outcome: 1, Satisfaction: (anticipation: True, valence: 1)\n",
      "Action: 0, Anticipation: 1, Outcome: 1, Satisfaction: (anticipation: True, valence: 1)\n",
      "Action: 1, Anticipation: 0, Outcome: 0, Satisfaction: (anticipation: True, valence: -1)\n",
      "Action: 1, Anticipation: 0, Outcome: 0, Satisfaction: (anticipation: True, valence: -1)\n",
      "Action: 1, Anticipation: 0, Outcome: 0, Satisfaction: (anticipation: True, valence: -1)\n",
      "Action: 1, Anticipation: 0, Outcome: 0, Satisfaction: (anticipation: True, valence: -1)\n",
      "Action: 0, Anticipation: 1, Outcome: 1, Satisfaction: (anticipation: True, valence: 1)\n"
     ]
    }
   ],
   "source": [
    "e = Environment2()\n",
    "outcome = 0\n",
    "for i in range(20):\n",
    "    action = a.action(outcome)\n",
    "    outcome = e.outcome(action)"
   ],
   "metadata": {
    "collapsed": false,
    "ExecuteTime": {
     "end_time": "2023-10-02T12:12:31.464814Z",
     "start_time": "2023-10-02T12:12:31.460390Z"
    }
   },
   "id": "ed56cc3b136a86bf"
  },
  {
   "cell_type": "code",
   "execution_count": 10,
   "outputs": [],
   "source": [
    "class Agent2:\n",
    "    def __init__(self, valence_table):\n",
    "        \"\"\" Creating our agent \"\"\"\n",
    "        self.valence_table = valence_table\n",
    "        self._action = None\n",
    "        self.anticipated_outcome = None\n",
    "        self.memory_anticipation = {}  # {action: outcome}\n",
    "        self.last_and_satisfaction = []  # [action, satisfaction]\n",
    "\n",
    "    def action(self, outcome):\n",
    "        \"\"\" tracing the previous cycle \"\"\"\n",
    "        if self._action is not None:\n",
    "            print(\"Action: \" + str(self._action) +\n",
    "                  \", Anticipation: \" + str(self.anticipated_outcome) +\n",
    "                  \", Outcome: \" + str(outcome) +\n",
    "                  \", Satisfaction: (anticipation: \" + str(self.anticipated_outcome == outcome) +\n",
    "                  \", valence: \" + str(self.valence_table[self._action][outcome]) + \")\")\n",
    "\n",
    "            self.memory_anticipation[self._action] = outcome\n",
    "            self.last_and_satisfaction.append([self._action, self.anticipated_outcome == outcome])\n",
    "\n",
    "        \"\"\" Computing the next action to enact \"\"\"\n",
    "        # TODO: Implement the agent's decision mechanism\n",
    "        if self._action is None:\n",
    "            self._action = 0\n",
    "        # Si on a fait 4 actions identiques, on change d'action \n",
    "        if len(self.last_and_satisfaction) >= 4:\n",
    "            if self.last_and_satisfaction[-1][0] == self.last_and_satisfaction[-2][0] == self.last_and_satisfaction[-3][\n",
    "                0] == self.last_and_satisfaction[-4][0]:\n",
    "                self._action = 1 - self._action\n",
    "                return self._action\n",
    "        # Si on connait une action qui rapporte une valence plus grande que l'action actuelle, on change d'action\n",
    "        for action in self.memory_anticipation:\n",
    "            if self.valence_table[action][self.memory_anticipation[action]] > self.valence_table[self._action][\n",
    "                self.memory_anticipation[self._action]]:\n",
    "                self._action = action\n",
    "\n",
    "        # TODO: Implement the agent's anticipation mechanism\n",
    "        self.anticipated_outcome = 0\n",
    "        if self._action in self.memory_anticipation:\n",
    "            self.anticipated_outcome = self.memory_anticipation[self._action]\n",
    "        return self._action"
   ],
   "metadata": {
    "collapsed": false,
    "ExecuteTime": {
     "end_time": "2023-10-02T12:15:48.638167Z",
     "start_time": "2023-10-02T12:15:48.626785Z"
    }
   },
   "id": "af3fd61225a7620d"
  },
  {
   "cell_type": "code",
   "execution_count": 11,
   "outputs": [
    {
     "name": "stdout",
     "output_type": "stream",
     "text": [
      "Action: 0, Anticipation: 0, Outcome: 0, Satisfaction: (anticipation: True, valence: 1)\n",
      "Action: 0, Anticipation: 0, Outcome: 0, Satisfaction: (anticipation: True, valence: 1)\n",
      "Action: 0, Anticipation: 0, Outcome: 0, Satisfaction: (anticipation: True, valence: 1)\n",
      "Action: 0, Anticipation: 0, Outcome: 0, Satisfaction: (anticipation: True, valence: 1)\n",
      "Action: 1, Anticipation: 0, Outcome: 1, Satisfaction: (anticipation: False, valence: -1)\n",
      "Action: 0, Anticipation: 0, Outcome: 0, Satisfaction: (anticipation: True, valence: 1)\n",
      "Action: 0, Anticipation: 0, Outcome: 0, Satisfaction: (anticipation: True, valence: 1)\n",
      "Action: 0, Anticipation: 0, Outcome: 0, Satisfaction: (anticipation: True, valence: 1)\n",
      "Action: 0, Anticipation: 0, Outcome: 0, Satisfaction: (anticipation: True, valence: 1)\n",
      "Action: 1, Anticipation: 0, Outcome: 1, Satisfaction: (anticipation: False, valence: -1)\n",
      "Action: 0, Anticipation: 0, Outcome: 0, Satisfaction: (anticipation: True, valence: 1)\n",
      "Action: 0, Anticipation: 0, Outcome: 0, Satisfaction: (anticipation: True, valence: 1)\n",
      "Action: 0, Anticipation: 0, Outcome: 0, Satisfaction: (anticipation: True, valence: 1)\n",
      "Action: 0, Anticipation: 0, Outcome: 0, Satisfaction: (anticipation: True, valence: 1)\n",
      "Action: 1, Anticipation: 0, Outcome: 1, Satisfaction: (anticipation: False, valence: -1)\n",
      "Action: 0, Anticipation: 0, Outcome: 0, Satisfaction: (anticipation: True, valence: 1)\n",
      "Action: 0, Anticipation: 0, Outcome: 0, Satisfaction: (anticipation: True, valence: 1)\n",
      "Action: 0, Anticipation: 0, Outcome: 0, Satisfaction: (anticipation: True, valence: 1)\n",
      "Action: 0, Anticipation: 0, Outcome: 0, Satisfaction: (anticipation: True, valence: 1)\n"
     ]
    }
   ],
   "source": [
    "a = Agent2(valences)\n",
    "e = Environment1()\n",
    "outcome = 0\n",
    "for i in range(20):\n",
    "    action = a.action(outcome)\n",
    "    outcome = e.outcome(action)"
   ],
   "metadata": {
    "collapsed": false,
    "ExecuteTime": {
     "end_time": "2023-10-02T12:15:49.518289Z",
     "start_time": "2023-10-02T12:15:49.512937Z"
    }
   },
   "id": "591c29c38aa2bff4"
  },
  {
   "cell_type": "code",
   "execution_count": 12,
   "outputs": [
    {
     "name": "stdout",
     "output_type": "stream",
     "text": [
      "Action: 1, Anticipation: 0, Outcome: 0, Satisfaction: (anticipation: True, valence: 1)\n",
      "Action: 1, Anticipation: 0, Outcome: 0, Satisfaction: (anticipation: True, valence: 1)\n",
      "Action: 1, Anticipation: 0, Outcome: 0, Satisfaction: (anticipation: True, valence: 1)\n",
      "Action: 1, Anticipation: 0, Outcome: 0, Satisfaction: (anticipation: True, valence: 1)\n",
      "Action: 0, Anticipation: 0, Outcome: 1, Satisfaction: (anticipation: False, valence: -1)\n",
      "Action: 1, Anticipation: 0, Outcome: 0, Satisfaction: (anticipation: True, valence: 1)\n",
      "Action: 1, Anticipation: 0, Outcome: 0, Satisfaction: (anticipation: True, valence: 1)\n",
      "Action: 1, Anticipation: 0, Outcome: 0, Satisfaction: (anticipation: True, valence: 1)\n",
      "Action: 1, Anticipation: 0, Outcome: 0, Satisfaction: (anticipation: True, valence: 1)\n",
      "Action: 0, Anticipation: 0, Outcome: 1, Satisfaction: (anticipation: False, valence: -1)\n",
      "Action: 1, Anticipation: 0, Outcome: 0, Satisfaction: (anticipation: True, valence: 1)\n",
      "Action: 1, Anticipation: 0, Outcome: 0, Satisfaction: (anticipation: True, valence: 1)\n",
      "Action: 1, Anticipation: 0, Outcome: 0, Satisfaction: (anticipation: True, valence: 1)\n",
      "Action: 1, Anticipation: 0, Outcome: 0, Satisfaction: (anticipation: True, valence: 1)\n",
      "Action: 0, Anticipation: 0, Outcome: 1, Satisfaction: (anticipation: False, valence: -1)\n",
      "Action: 1, Anticipation: 0, Outcome: 0, Satisfaction: (anticipation: True, valence: 1)\n",
      "Action: 1, Anticipation: 0, Outcome: 0, Satisfaction: (anticipation: True, valence: 1)\n",
      "Action: 1, Anticipation: 0, Outcome: 0, Satisfaction: (anticipation: True, valence: 1)\n",
      "Action: 1, Anticipation: 0, Outcome: 0, Satisfaction: (anticipation: True, valence: 1)\n",
      "Action: 0, Anticipation: 0, Outcome: 1, Satisfaction: (anticipation: False, valence: -1)\n"
     ]
    }
   ],
   "source": [
    "e = Environment2()\n",
    "outcome = 0\n",
    "for i in range(20):\n",
    "    action = a.action(outcome)\n",
    "    outcome = e.outcome(action)"
   ],
   "metadata": {
    "collapsed": false,
    "ExecuteTime": {
     "end_time": "2023-10-02T12:15:50.590706Z",
     "start_time": "2023-10-02T12:15:50.580073Z"
    }
   },
   "id": "63f768d2c34bad34"
  },
  {
   "cell_type": "code",
   "execution_count": 13,
   "outputs": [
    {
     "name": "stdout",
     "output_type": "stream",
     "text": [
      "Action: 0, Anticipation: 0, Outcome: 1, Satisfaction: (anticipation: False, valence: -1)\n",
      "Action: 0, Anticipation: 1, Outcome: 1, Satisfaction: (anticipation: True, valence: -1)\n",
      "Action: 0, Anticipation: 1, Outcome: 1, Satisfaction: (anticipation: True, valence: -1)\n",
      "Action: 0, Anticipation: 1, Outcome: 1, Satisfaction: (anticipation: True, valence: -1)\n",
      "Action: 1, Anticipation: 1, Outcome: 0, Satisfaction: (anticipation: False, valence: 1)\n",
      "Action: 1, Anticipation: 0, Outcome: 0, Satisfaction: (anticipation: True, valence: 1)\n",
      "Action: 1, Anticipation: 0, Outcome: 0, Satisfaction: (anticipation: True, valence: 1)\n",
      "Action: 1, Anticipation: 0, Outcome: 0, Satisfaction: (anticipation: True, valence: 1)\n",
      "Action: 0, Anticipation: 0, Outcome: 1, Satisfaction: (anticipation: False, valence: -1)\n",
      "Action: 1, Anticipation: 0, Outcome: 0, Satisfaction: (anticipation: True, valence: 1)\n",
      "Action: 1, Anticipation: 0, Outcome: 0, Satisfaction: (anticipation: True, valence: 1)\n",
      "Action: 1, Anticipation: 0, Outcome: 0, Satisfaction: (anticipation: True, valence: 1)\n",
      "Action: 1, Anticipation: 0, Outcome: 0, Satisfaction: (anticipation: True, valence: 1)\n",
      "Action: 0, Anticipation: 0, Outcome: 1, Satisfaction: (anticipation: False, valence: -1)\n",
      "Action: 1, Anticipation: 0, Outcome: 0, Satisfaction: (anticipation: True, valence: 1)\n",
      "Action: 1, Anticipation: 0, Outcome: 0, Satisfaction: (anticipation: True, valence: 1)\n",
      "Action: 1, Anticipation: 0, Outcome: 0, Satisfaction: (anticipation: True, valence: 1)\n",
      "Action: 1, Anticipation: 0, Outcome: 0, Satisfaction: (anticipation: True, valence: 1)\n",
      "Action: 0, Anticipation: 0, Outcome: 1, Satisfaction: (anticipation: False, valence: -1)\n"
     ]
    }
   ],
   "source": [
    "valences = [[1, -1], [1, -1]]\n",
    "a = Agent2(valences)\n",
    "outcome = 0\n",
    "for i in range(20):\n",
    "    action = a.action(outcome)\n",
    "    outcome = e.outcome(action)"
   ],
   "metadata": {
    "collapsed": false,
    "ExecuteTime": {
     "end_time": "2023-10-02T12:15:51.467828Z",
     "start_time": "2023-10-02T12:15:51.462989Z"
    }
   },
   "id": "8c6b8e7e49256651"
  },
  {
   "cell_type": "markdown",
   "source": [
    "Excuter l'Agent2 que vous avez fait précédemment dans l'environnement TurtlePy. Pour cela, modifiez world.py pour que votre agent intéragisse avec l'environnement Turtlepy_enacter.py.\n",
    "\n",
    "L'environnement TurtlePy_enacter renvoie outcome 0 quand la tortue avance sans se cogner, et outcome 1 quand elle se cogne sur le bord de la fenêtre. Il peut être nécessaire d'agrandir la fenêtre avec votre souris pour voir le bord."
   ],
   "metadata": {
    "collapsed": false
   },
   "id": "f2d022c485f56d1c"
  },
  {
   "cell_type": "code",
   "execution_count": 17,
   "outputs": [
    {
     "name": "stdout",
     "output_type": "stream",
     "text": [
      "Action: 0, Anticipation: 0, Outcome: 0, Satisfaction: (anticipation: True, valence: 1)\n",
      "Action: 0, Anticipation: 0, Outcome: 0, Satisfaction: (anticipation: True, valence: 1)\n",
      "Action: 0, Anticipation: 0, Outcome: 0, Satisfaction: (anticipation: True, valence: 1)\n",
      "Action: 0, Anticipation: 0, Outcome: 0, Satisfaction: (anticipation: True, valence: 1)\n",
      "Action: 1, Anticipation: 0, Outcome: 1, Satisfaction: (anticipation: False, valence: -1)\n",
      "Action: 0, Anticipation: 0, Outcome: 1, Satisfaction: (anticipation: False, valence: -1)\n",
      "Action: 0, Anticipation: 1, Outcome: 1, Satisfaction: (anticipation: True, valence: -1)\n",
      "Action: 0, Anticipation: 1, Outcome: 1, Satisfaction: (anticipation: True, valence: -1)\n",
      "Action: 0, Anticipation: 1, Outcome: 1, Satisfaction: (anticipation: True, valence: -1)\n",
      "Action: 1, Anticipation: 1, Outcome: 1, Satisfaction: (anticipation: True, valence: -1)\n",
      "Action: 1, Anticipation: 1, Outcome: 1, Satisfaction: (anticipation: True, valence: -1)\n",
      "Action: 1, Anticipation: 1, Outcome: 1, Satisfaction: (anticipation: True, valence: -1)\n",
      "Action: 1, Anticipation: 1, Outcome: 0, Satisfaction: (anticipation: False, valence: 1)\n",
      "Action: 2, Anticipation: 1, Outcome: 0, Satisfaction: (anticipation: False, valence: 1)\n",
      "Action: 2, Anticipation: 0, Outcome: 1, Satisfaction: (anticipation: False, valence: -1)\n",
      "Action: 1, Anticipation: 0, Outcome: 1, Satisfaction: (anticipation: False, valence: -1)\n",
      "Action: 1, Anticipation: 1, Outcome: 0, Satisfaction: (anticipation: False, valence: 1)\n",
      "Action: 1, Anticipation: 0, Outcome: 0, Satisfaction: (anticipation: True, valence: 1)\n",
      "Action: 1, Anticipation: 0, Outcome: 0, Satisfaction: (anticipation: True, valence: 1)\n"
     ]
    }
   ],
   "source": [
    "from turtlepy_enacter import TurtlePyEnacter\n",
    "\n",
    "turtle = TurtlePyEnacter()\n",
    "valences = [[1, -1], [1, -1]]\n",
    "a = Agent2(valences)\n",
    "outcome = 0\n",
    "for i in range(20):\n",
    "    action = a.action(outcome)\n",
    "    outcome = turtle.outcome(action)"
   ],
   "metadata": {
    "collapsed": false,
    "ExecuteTime": {
     "end_time": "2023-10-02T12:21:30.204333Z",
     "start_time": "2023-10-02T12:20:27.983699Z"
    }
   },
   "id": "3fd75b0058535cb5"
  },
  {
   "cell_type": "markdown",
   "source": [
    "Créer un Agent3 en modifiant votre Agent2 pour qu'il puisse choisir parmi 3 actions: 0, 1 ou 2. Choisissez des valences pour les interactions qui font que l'agent ne se retrouve pas coincé sur un bord de l'environnement TurtlePy.\n",
    "\n",
    "Modifier le code de Agent3 pour rendre ses comportements encore un peu plus intéressants mais sans coder des présuppositions sur ses actions ni sur les outcomes. Il faut que votre agent génère des comportements intéressants même si on inverse les codes des actions et des outcomes dans l'environnement (mais on garde la possibilité d'adapter la table des valences)."
   ],
   "metadata": {
    "collapsed": false
   },
   "id": "d3d5334a7ac755e5"
  },
  {
   "cell_type": "code",
   "execution_count": 20,
   "outputs": [],
   "source": [
    "class Agent3:\n",
    "    def __init__(self, valence_table):\n",
    "        \"\"\" Creating our agent \"\"\"\n",
    "        self.valence_table = valence_table\n",
    "        self._action = None\n",
    "        self.anticipated_outcome = None\n",
    "        self.memory_anticipation = {}  # {action: outcome}\n",
    "        self.last_and_satisfaction = []  # [action, satisfaction]\n",
    "\n",
    "    def action(self, outcome):\n",
    "        \"\"\" tracing the previous cycle \"\"\"\n",
    "        if self._action is not None:\n",
    "            print(\"Action: \" + str(self._action) +\n",
    "                  \", Anticipation: \" + str(self.anticipated_outcome) +\n",
    "                  \", Outcome: \" + str(outcome) +\n",
    "                  \", Satisfaction: (anticipation: \" + str(self.anticipated_outcome == outcome) +\n",
    "                  \", valence: \" + str(self.valence_table[self._action][outcome]) + \")\")\n",
    "\n",
    "            self.memory_anticipation[self._action] = outcome\n",
    "            self.last_and_satisfaction.append([self._action, self.anticipated_outcome == outcome])\n",
    "\n",
    "        \"\"\" Computing the next action to enact \"\"\"\n",
    "        if self._action is None:\n",
    "            self._action = 0\n",
    "        # Si on a fait 4 actions identiques, on change d'action \n",
    "        if len(self.last_and_satisfaction) >= 4:\n",
    "            if self.last_and_satisfaction[-1][0] == self.last_and_satisfaction[-2][0] == self.last_and_satisfaction[-3][\n",
    "                0] == self.last_and_satisfaction[-4][0]:\n",
    "                self._action = (self._action + 1) % 3\n",
    "                return self._action\n",
    "            \n",
    "        # Si on connait une action qui rapporte une valence plus grande que l'action actuelle, on change d'action\n",
    "        for action in self.memory_anticipation:\n",
    "            if self.valence_table[action][self.memory_anticipation[action]] > self.valence_table[self._action][\n",
    "                self.memory_anticipation[self._action]]:\n",
    "                self._action = action\n",
    "        \n",
    "\n",
    "        self.anticipated_outcome = 0\n",
    "        if self._action in self.memory_anticipation:\n",
    "            self.anticipated_outcome = self.memory_anticipation[self._action]\n",
    "        return self._action\n",
    "\n",
    "\n",
    "\n"
   ],
   "metadata": {
    "collapsed": false,
    "ExecuteTime": {
     "end_time": "2023-10-02T12:23:31.241685Z",
     "start_time": "2023-10-02T12:23:31.227381Z"
    }
   },
   "id": "ecd94b70b9c00f1"
  },
  {
   "cell_type": "code",
   "execution_count": null,
   "outputs": [],
   "source": [
    "valences = [[1, -1], [1, -1], [1, -1]]\n",
    "turtle = TurtlePyEnacter()\n",
    "a = Agent3(valences)\n",
    "outcome = 0\n",
    "for i in range(200):\n",
    "    action = a.action(outcome)\n",
    "    outcome = turtle.outcome(action)\n",
    "    turtle.screen.listen()"
   ],
   "metadata": {
    "collapsed": false
   },
   "id": "4f8c60bb5df6d4cb"
  }
 ],
 "metadata": {
  "kernelspec": {
   "display_name": "Python 3",
   "language": "python",
   "name": "python3"
  },
  "language_info": {
   "codemirror_mode": {
    "name": "ipython",
    "version": 2
   },
   "file_extension": ".py",
   "mimetype": "text/x-python",
   "name": "python",
   "nbconvert_exporter": "python",
   "pygments_lexer": "ipython2",
   "version": "2.7.6"
  }
 },
 "nbformat": 4,
 "nbformat_minor": 5
}
